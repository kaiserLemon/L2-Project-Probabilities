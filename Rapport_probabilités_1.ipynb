{
 "cells": [
  {
   "cell_type": "markdown",
   "metadata": {},
   "source": [
    "# Distanciel X22M090 : Probabilités pour les sciences exactes\n",
    "\n",
    "Pour avancer dans le notebook et exécuter les cellules : taper Shift+Enter ou utiliser la barre d'outils ci-dessus et choisir Cell, Run Cell and select Below\n",
    "\n",
    "## Consignes\n",
    "\n",
    "Vous répondez aux questions en modifiant ce notebook. Normalement vous devriez pouvoir vous contenter d'écrire dans les cellules prévues en dessous de chaque question, cellule texte ou cellule code. Si besoin, insérez des cellules (de type Markdown pour du texte et de type code pour du code, voir menu \"Cell\"). \n",
    "\n",
    "Ensuite vous enregistrez ce notebook en .ipynb ainsi qu'en html, et vous rendez les deux fichiers sur Madoc. "
   ]
  },
  {
   "cell_type": "markdown",
   "metadata": {},
   "source": [
    "## Fonction de répartition\n",
    "\n",
    "Nous utilisons sans vergogne les modules préchargés, comme numpy pour faire des tableaux (Python traite plutôt des listes hétérogènes, moins efficaces) ; et bien sûr le module stats.\n",
    "Ce module distingue les lois continues (du type rv_continuous) et les lois discrètes (du type rv_discrete). Parmi les discrètes : bernoulli, binom, geom, hypergeom, poisson, randint (loi discrète uniforme) ; parmi les continues : norm, expon, uniform.\n",
    "\n",
    "Le fonctionnement est un peu particulier. On commence par créer un objet va représentant la variable aléatoire, suivant la loi de son choix. On dispose alors de la probabilité en appelant va.pmf (probability mass function), ou la fonction de densité va.pdf (probability density function), de sa fonction de répartition, ou de la primitive de la fonction de densité, en appelant va.cdf (cumulative density function), et de la réciproque de cette dernière en appelant va.ppf (percent point function). On peut aussi simuler des tirages à l'aide de va.rvs (random variable).\n"
   ]
  },
  {
   "cell_type": "code",
   "execution_count": 3,
   "metadata": {},
   "outputs": [
    {
     "data": {
      "text/plain": [
       "(0.007575644925726655,\n",
       " 0.08678386475342813,\n",
       " 0.5491236007687914,\n",
       " 30.0,\n",
       " 36.0,\n",
       " array([25, 26, 34, 32, 29, 22, 26, 31, 38, 33, 38, 27, 29, 28, 33, 29, 37,\n",
       "        29, 29, 31]))"
      ]
     },
     "execution_count": 3,
     "metadata": {},
     "output_type": "execute_result"
    }
   ],
   "source": [
    "from scipy.stats import binom\n",
    "va = binom(100,0.3)\n",
    "va.pmf(20), va.pmf(30), va.cdf(30), va.ppf(0.5), va.ppf(0.9),va.rvs(size=20)"
   ]
  },
  {
   "cell_type": "markdown",
   "metadata": {},
   "source": [
    "Exécutez la cellule de code ci-dessus, cliquez dans la cellule texte (qu'on ne devine pas forcément) ci-dessous, et explicitez-y la signification de chacun des six résultats affichés."
   ]
  },
  {
   "cell_type": "markdown",
   "metadata": {},
   "source": []
  },
  {
   "cell_type": "code",
   "execution_count": null,
   "metadata": {},
   "outputs": [],
   "source": [
    "#binom(100,0.3) : Probabilité de X = k étant donnés une variable aléatoire X qui suit la loi binomiale, p la probabilité d'un succès valant 0.3 et n le nombre d'essais\n",
    "#Résultat 1 : Probabilité de P(X = 20)\n",
    "#Résultat 2 : Probabilité de P(X = 30)\n",
    "#Résultat 3 : Probabilité de P(X <= 30)\n",
    "#Résultat 4 : Valeur N pour laquelle P(X <= N) = 0.5\n",
    "#Résultat 5 : Valeur N pour laquelle P(X <= N) = 0.9\n",
    "#Résultat 6 : Fournit un tableau de 20 (car size = 20) valeurs prises par la variable aléatoire X choisies au hasard"
   ]
  },
  {
   "cell_type": "markdown",
   "metadata": {},
   "source": [
    "On peut aussi tracer la fonction de répartition (vous vous rappelez sa définition ?) On l'appelle par la commande cdf.\n",
    "\n",
    "Pour les graphiques, chacun a ses habitudes et ses commandes favorites. Par exemple, numpy.linspace(départ, fin, nombre d'éléments) permet d’obtenir un tableau 1D allant d’une valeur de départ à une valeur de fin avec un nombre donné d’éléments.\n",
    "### Question :\n",
    "Dans la cellule suivante, ajustez le dernier argument de np.linspace pour obtenir des valeurs entières dans le tableau x, et vérifiez en exécutant."
   ]
  },
  {
   "cell_type": "code",
   "execution_count": 1,
   "metadata": {},
   "outputs": [
    {
     "data": {
      "text/plain": [
       "array([500, 502, 504, 506, 508, 510, 512, 514, 516, 518, 520, 522, 524,\n",
       "       526, 528, 530, 532, 534, 536, 538, 540, 542, 544, 546, 548, 550,\n",
       "       552, 554, 556, 558, 560, 562, 564, 566, 568, 570, 572, 574, 576,\n",
       "       578, 580, 582, 584, 586, 588, 590, 592, 594, 596, 598, 601, 603,\n",
       "       605, 607, 609, 611, 613, 615, 617, 619, 621, 623, 625, 627, 629,\n",
       "       631, 633, 635, 637, 639, 641, 643, 645, 647, 649, 651, 653, 655,\n",
       "       657, 659, 661, 663, 665, 667, 669, 671, 673, 675, 677, 679, 681,\n",
       "       683, 685, 687, 689, 691, 693, 695, 697, 700])"
      ]
     },
     "execution_count": 1,
     "metadata": {},
     "output_type": "execute_result"
    }
   ],
   "source": [
    "import numpy as np \n",
    "x = np.linspace(500, 700, 100).astype(int)\n",
    "x"
   ]
  },
  {
   "cell_type": "markdown",
   "metadata": {},
   "source": [
    "Traçons la fonction de répartition d'une loi binomiale :"
   ]
  },
  {
   "cell_type": "code",
   "execution_count": 2,
   "metadata": {},
   "outputs": [
    {
     "data": {
      "image/png": "[encoded data removed]",
      "text/plain": [
       "<Figure size 432x288 with 1 Axes>"
      ]
     },
     "metadata": {
      "needs_background": "light"
     },
     "output_type": "display_data"
    }
   ],
   "source": [
    "import matplotlib.pyplot as plt\n",
    "import numpy as np\n",
    "import scipy.stats\n",
    "from scipy.stats import binom, poisson\n",
    "vab = binom(3600, 1/6)\n",
    "vap = poisson(600)\n",
    "x = np.linspace(500, 700, 101)\n",
    "plt.plot(x, vab.cdf(x))\n",
    "plt.plot(x, vap.cdf(x))\n",
    "plt.grid()\n",
    "plt.xlim(500, 700)\n",
    "plt.ylim(0, 1)\n",
    "plt.title('Loi binomiale & loi de Poisson')\n",
    "# décommentez la ligne suivante pour enregistrer le dessin\n",
    "#plt.savefig(\"binomiale.png\")\n",
    "plt.show()"
   ]
  },
  {
   "cell_type": "markdown",
   "metadata": {},
   "source": [
    "### Question\n",
    "Faites de même pour la loi de Poisson (avec le paramètre pertinent), et placez les deux courbes sur le même graphique pour les comparer.\n",
    "Dans la cellule suivante, commentez à l'aide du cours."
   ]
  },
  {
   "cell_type": "code",
   "execution_count": null,
   "metadata": {},
   "outputs": [],
   "source": [
    "# La loi de Poisson est une bonne approximation de la loi binomiale pour un n grand et un p faible.\n",
    "# Ici lambda = n*p = 3600 * 1/6 = 600."
   ]
  },
  {
   "cell_type": "markdown",
   "metadata": {},
   "source": []
  },
  {
   "cell_type": "markdown",
   "metadata": {},
   "source": [
    "## Fin de l'activité"
   ]
  },
  {
   "cell_type": "markdown",
   "metadata": {},
   "source": [
    "Cette activité de prise en main doit être finalisée individuellement. Indiquez quel outil vous avez utilisé (salle de TP, Cocalc...), et si vous avez travaillé en binôme en signalant avec qui dans la cellule ci-desous.\n",
    "    Puis enregistrez dans les deux formats ipnb et html et rendez les deux fichiers sur madoc."
   ]
  },
  {
   "cell_type": "code",
   "execution_count": null,
   "metadata": {},
   "outputs": [],
   "source": [
    "Travail conçu avec : Emmanuel Stalder"
   ]
  },
  {
   "cell_type": "markdown",
   "metadata": {},
   "source": []
  }
 ],
 "metadata": {
  "kernelspec": {
   "display_name": "Python 3 (ipykernel)",
   "language": "python",
   "name": "python3"
  },
  "language_info": {
   "codemirror_mode": {
    "name": "ipython",
    "version": 3
   },
   "file_extension": ".py",
   "mimetype": "text/x-python",
   "name": "python",
   "nbconvert_exporter": "python",
   "pygments_lexer": "ipython3",
   "version": "3.9.7"
  }
 },
 "nbformat": 4,
 "nbformat_minor": 4
}
